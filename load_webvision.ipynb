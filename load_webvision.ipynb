{
 "cells": [
  {
   "cell_type": "markdown",
   "metadata": {},
   "source": [
    "# Setup"
   ]
  },
  {
   "cell_type": "code",
   "execution_count": 1,
   "metadata": {},
   "outputs": [],
   "source": [
    "import os\n",
    "import PIL.Image\n",
    "import numpy as np\n",
    "import pickle"
   ]
  },
  {
   "cell_type": "code",
   "execution_count": 2,
   "metadata": {},
   "outputs": [],
   "source": [
    "def unpickle(file):\n",
    "    with open(file, 'rb') as fo:\n",
    "        dict = pickle.load(fo, encoding='bytes')\n",
    "    return dict"
   ]
  },
  {
   "cell_type": "code",
   "execution_count": 3,
   "metadata": {},
   "outputs": [],
   "source": [
    "def repickle(res, file):\n",
    "    pickle.dump(res, open(file, \"wb\" ))"
   ]
  },
  {
   "cell_type": "markdown",
   "metadata": {},
   "source": [
    "# Training set"
   ]
  },
  {
   "cell_type": "code",
   "execution_count": 4,
   "metadata": {},
   "outputs": [
    {
     "name": "stdout",
     "output_type": "stream",
     "text": [
      "flickr/q0001/2680197397.jpg\n",
      "# file_set: 25744\n"
     ]
    }
   ],
   "source": [
    "cluster_list = './curriculum_clustering/input/webvision_cls0-9.txt' # webvision train list\n",
    "with open(cluster_list) as f:\n",
    "    metadata = [x.strip().split(' ') for x in f]\n",
    "\n",
    "file_set = set([item[0] for item in metadata])\n",
    "file_list = [item[0] for item in metadata]\n",
    "print(file_list[0])\n",
    "#print(metadata[0])\n",
    "print(\"# file_set:\", len(file_set))"
   ]
  },
  {
   "cell_type": "code",
   "execution_count": 5,
   "metadata": {},
   "outputs": [
    {
     "name": "stdout",
     "output_type": "stream",
     "text": [
      "# X: 14502\n",
      "# X: 25744\n"
     ]
    }
   ],
   "source": [
    "source_folders = [\"./flickr_resized_256/flickr/\", \"./google_resized_256/google/\"]\n",
    "X = []\n",
    "img_ids = []\n",
    "#query = []\n",
    "for folder in source_folders:\n",
    "    folders = [x[0] for x in os.walk(folder)]\n",
    "    folders = folders[1:]\n",
    "    #print(folders)\n",
    "\n",
    "    for fld in folders:\n",
    "        #print(fld)\n",
    "        for file in os.listdir(fld):\n",
    "            img_id = fld +\"/\"+ file\n",
    "            img_id = \"/\".join(img_id.split('/')[-3:])\n",
    "            file = os.path.join(fld, file)\n",
    "            #print(img_id)\n",
    "            #break\n",
    "            if img_id in file_set:\n",
    "                #print(img_id)\n",
    "                img = PIL.Image.open(file)\n",
    "                img = np.array(img)\n",
    "                X.append(img)\n",
    "                img_ids.append(img_id)\n",
    "\n",
    "    print(\"# X:\", len(X))"
   ]
  },
  {
   "cell_type": "code",
   "execution_count": 10,
   "metadata": {},
   "outputs": [
    {
     "name": "stdout",
     "output_type": "stream",
     "text": [
      "{'q0001': '0', 'q0002': '0', 'q0003': '1', 'q0004': '1', 'q0005': '2', 'q0006': '2', 'q0007': '2', 'q0008': '3', 'q0009': '3', 'q0010': '4', 'q0011': '5', 'q0012': '5', 'q0013': '5', 'q0014': '6', 'q0015': '7', 'q0016': '7', 'q0017': '8', 'q0018': '9', 'q0019': '9'}\n"
     ]
    }
   ],
   "source": [
    "class_to_query = {'0':['q0001', 'q0002'], '1':['q0003', 'q0004'], '2':['q0005', 'q0006', 'q0007'], '3':['q0008', 'q0009']\n",
    "                 , '4':['q0010'], '5':['q0011', 'q0012', 'q0013'], '6':['q0014'], '7':['q0015', 'q0016'], '8':['q0017']\n",
    "                 , '9':['q0018', 'q0019']}\n",
    "query_to_class = dict()\n",
    "for key, val in class_to_query.items():\n",
    "    for query in val:\n",
    "        query_to_class[query] = key\n",
    "        \n",
    "print(query_to_class)"
   ]
  },
  {
   "cell_type": "code",
   "execution_count": 12,
   "metadata": {},
   "outputs": [],
   "source": [
    "class_to_imgid = dict()\n",
    "for img_id in img_ids:\n",
    "    # get query\n",
    "    query = img_id.split('/')[1]\n",
    "    clss = query_to_class[query]\n",
    "    if clss not in class_to_imgid:\n",
    "        class_to_imgid[clss] = []\n",
    "    class_to_imgid[clss].append(img_id)\n",
    "\n",
    "#print(class_to_imgid)"
   ]
  },
  {
   "cell_type": "code",
   "execution_count": 20,
   "metadata": {},
   "outputs": [
    {
     "name": "stdout",
     "output_type": "stream",
     "text": [
      "# val: 1738\n",
      "# val: 2612\n",
      "# val: 3589\n",
      "# val: 2602\n",
      "# val: 1372\n",
      "# val: 2006\n",
      "# val: 2131\n",
      "# val: 4187\n",
      "# val: 2147\n",
      "# val: 3360\n",
      "# imgid_set: 13720\n"
     ]
    }
   ],
   "source": [
    "import random\n",
    "imgid_set = set()\n",
    "random.seed(42)\n",
    "for key, val in class_to_imgid.items():\n",
    "    # randomly choose 1372 entries from val\n",
    "    print(\"# val:\", len(val))\n",
    "    random.shuffle(val)\n",
    "    rand_imgid = set(val[:1372])\n",
    "    imgid_set = imgid_set.union(rand_imgid)\n",
    "\n",
    "print(\"# imgid_set:\", len(imgid_set))"
   ]
  },
  {
   "cell_type": "code",
   "execution_count": 26,
   "metadata": {
    "scrolled": true
   },
   "outputs": [
    {
     "name": "stdout",
     "output_type": "stream",
     "text": [
      "# X_rand: 13720\n",
      "# img_ids_rand: 13720\n"
     ]
    }
   ],
   "source": [
    "X_rand = []\n",
    "img_ids_rand = []\n",
    "\n",
    "for i, img_id in enumerate(img_ids):\n",
    "    if img_id in imgid_set:\n",
    "        X_rand.append(X[i])\n",
    "        img_ids_rand.append(img_id)\n",
    "\n",
    "X = X_rand\n",
    "img_ids = img_ids_rand\n",
    "\n",
    "print(\"# X_rand:\", len(X))\n",
    "print(\"# img_ids_rand:\", len(img_ids))"
   ]
  },
  {
   "cell_type": "code",
   "execution_count": 25,
   "metadata": {},
   "outputs": [
    {
     "name": "stdout",
     "output_type": "stream",
     "text": [
      "flickr/q0001/10153619346.jpg\n",
      "flickr/q0001/1058887763.jpg\n"
     ]
    }
   ],
   "source": [
    "print(img_ids_rand[0])\n",
    "print(img_ids_rand[1])"
   ]
  },
  {
   "cell_type": "code",
   "execution_count": 27,
   "metadata": {},
   "outputs": [],
   "source": [
    "data = dict()\n",
    "data['images'] = X[:6860]\n",
    "data['id'] = img_ids[:6860]\n",
    "repickle(data, './curriculum_clustering/input/webvision_cls0-9_batch1')\n",
    "\n",
    "data = dict()\n",
    "data['images'] = X[6860:]\n",
    "data['id'] = img_ids[6860:]\n",
    "repickle(data, './curriculum_clustering/input/webvision_cls0-9_batch2')"
   ]
  },
  {
   "cell_type": "code",
   "execution_count": 46,
   "metadata": {},
   "outputs": [],
   "source": [
    "X_p = unpickle('./curriculum_clustering/input/webvision_cls0-9_data')"
   ]
  },
  {
   "cell_type": "code",
   "execution_count": null,
   "metadata": {},
   "outputs": [],
   "source": [
    "print(len(X_p))\n",
    "print(X_p[0])"
   ]
  },
  {
   "cell_type": "markdown",
   "metadata": {},
   "source": [
    "# Validation set"
   ]
  },
  {
   "cell_type": "code",
   "execution_count": 20,
   "metadata": {},
   "outputs": [
    {
     "name": "stdout",
     "output_type": "stream",
     "text": [
      "0\n",
      "val000001.jpg\n",
      "# file_set: 500\n"
     ]
    }
   ],
   "source": [
    "cluster_list = './info/val_filelist.txt' # webvision train list\n",
    "with open(cluster_list) as f:\n",
    "    metadata = [x.strip().split(' ') for x in f]\n",
    "\n",
    "metadata = metadata[:500]\n",
    "file_set = set([item[0] for item in metadata])\n",
    "file_list = [item[0] for item in metadata]\n",
    "class_list = [item[1] for item in metadata]\n",
    "print(class_list[0])\n",
    "print(file_list[0])\n",
    "#print(metadata[0])\n",
    "print(\"# file_set:\", len(file_set))"
   ]
  },
  {
   "cell_type": "code",
   "execution_count": 21,
   "metadata": {},
   "outputs": [
    {
     "name": "stdout",
     "output_type": "stream",
     "text": [
      "# X: 500\n"
     ]
    }
   ],
   "source": [
    "fld = \"./val_images_256/\"\n",
    "X = []\n",
    "\n",
    "for file in os.listdir(fld):\n",
    "    #print(file)\n",
    "    file = os.path.join(fld, file)\n",
    "\n",
    "    img = PIL.Image.open(file)\n",
    "    img = np.array(img)\n",
    "    X.append(img)\n",
    "\n",
    "print(\"# X:\", len(X))"
   ]
  },
  {
   "cell_type": "code",
   "execution_count": 22,
   "metadata": {},
   "outputs": [],
   "source": [
    "data = dict()\n",
    "data['images'] = X\n",
    "data['id'] = file_list\n",
    "data['classes'] = class_list\n",
    "repickle(data, './curriculum_clustering/input/webvision_cls0-9_val')"
   ]
  },
  {
   "cell_type": "code",
   "execution_count": null,
   "metadata": {},
   "outputs": [],
   "source": []
  }
 ],
 "metadata": {
  "kernelspec": {
   "display_name": "Python 3",
   "language": "python",
   "name": "python3"
  },
  "language_info": {
   "codemirror_mode": {
    "name": "ipython",
    "version": 3
   },
   "file_extension": ".py",
   "mimetype": "text/x-python",
   "name": "python",
   "nbconvert_exporter": "python",
   "pygments_lexer": "ipython3",
   "version": "3.6.5"
  }
 },
 "nbformat": 4,
 "nbformat_minor": 2
}
