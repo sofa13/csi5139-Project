{
 "cells": [
  {
   "cell_type": "code",
   "execution_count": 40,
   "metadata": {},
   "outputs": [],
   "source": [
    "import os\n",
    "import PIL.Image\n",
    "import numpy as np\n",
    "import pickle"
   ]
  },
  {
   "cell_type": "code",
   "execution_count": 18,
   "metadata": {},
   "outputs": [
    {
     "name": "stdout",
     "output_type": "stream",
     "text": [
      "flickr/q0001/2680197397.jpg\n",
      "# file_set: 25744\n"
     ]
    }
   ],
   "source": [
    "cluster_list = './curriculum_clustering/input/webvision_cls0-9.txt' # webvision train list\n",
    "with open(cluster_list) as f:\n",
    "    metadata = [x.strip().split(' ') for x in f]\n",
    "\n",
    "file_set = set([item[0] for item in metadata])\n",
    "file_list = [item[0] for item in metadata]\n",
    "print(file_list[0])\n",
    "#print(metadata[0])\n",
    "print(\"# file_set:\", len(file_set))"
   ]
  },
  {
   "cell_type": "code",
   "execution_count": 52,
   "metadata": {},
   "outputs": [
    {
     "name": "stdout",
     "output_type": "stream",
     "text": [
      "# X: 14502\n"
     ]
    }
   ],
   "source": [
    "folder = \"./flickr_resized_256/flickr/\"\n",
    "folders = [x[0] for x in os.walk(folder)]\n",
    "folders = folders[1:]\n",
    "#print(folders)\n",
    "\n",
    "X = []\n",
    "img_ids = []\n",
    "for fld in folders:\n",
    "    #print(fld)\n",
    "    for file in os.listdir(fld):\n",
    "        img_id = fld +\"/\"+ file\n",
    "        img_id = \"/\".join(img_id.split('/')[-3:])\n",
    "        file = os.path.join(fld, file)\n",
    "        #print(img_id)\n",
    "        #break\n",
    "        if img_id in file_set:\n",
    "            #print(img_id)\n",
    "            img = PIL.Image.open(file)\n",
    "            img = np.array(img)\n",
    "            X.append(img)\n",
    "            img_ids.append(img_id)\n",
    "        \n",
    "print(\"# X:\", len(X))"
   ]
  },
  {
   "cell_type": "code",
   "execution_count": 45,
   "metadata": {},
   "outputs": [],
   "source": [
    "def unpickle(file):\n",
    "    with open(file, 'rb') as fo:\n",
    "        dict = pickle.load(fo, encoding='bytes')\n",
    "    return dict"
   ]
  },
  {
   "cell_type": "code",
   "execution_count": 42,
   "metadata": {},
   "outputs": [],
   "source": [
    "def repickle(res, file):\n",
    "    pickle.dump(res, open(file, \"wb\" ))"
   ]
  },
  {
   "cell_type": "code",
   "execution_count": 55,
   "metadata": {},
   "outputs": [],
   "source": [
    "data = dict()\n",
    "data['images'] = X[:7251]\n",
    "data['id'] = img_ids[:7251]\n",
    "repickle(data, './curriculum_clustering/input/webvision_cls0-9_batch1')\n",
    "\n",
    "data = dict()\n",
    "data['images'] = X[7251:]\n",
    "data['id'] = img_ids[7251:]\n",
    "repickle(data, './curriculum_clustering/input/webvision_cls0-9_batch2')"
   ]
  },
  {
   "cell_type": "code",
   "execution_count": 46,
   "metadata": {},
   "outputs": [],
   "source": [
    "X_p = unpickle('./curriculum_clustering/input/webvision_cls0-9_data')"
   ]
  },
  {
   "cell_type": "code",
   "execution_count": 47,
   "metadata": {},
   "outputs": [
    {
     "name": "stdout",
     "output_type": "stream",
     "text": [
      "2853\n",
      "[[[ 43  70  61]\n",
      "  [ 45  72  63]\n",
      "  [ 51  79  67]\n",
      "  ...\n",
      "  [ 86 116 104]\n",
      "  [ 96 124 110]\n",
      "  [126 153 138]]\n",
      "\n",
      " [[ 34  64  56]\n",
      "  [ 38  68  60]\n",
      "  [ 43  73  63]\n",
      "  ...\n",
      "  [ 70  98  86]\n",
      "  [134 160 147]\n",
      "  [208 235 220]]\n",
      "\n",
      " [[ 24  53  48]\n",
      "  [ 27  56  51]\n",
      "  [ 30  61  55]\n",
      "  ...\n",
      "  [ 72 100  88]\n",
      "  [165 191 178]\n",
      "  [237 255 247]]\n",
      "\n",
      " ...\n",
      "\n",
      " [[ 56  96  85]\n",
      "  [ 54  94  83]\n",
      "  [ 52  92  81]\n",
      "  ...\n",
      "  [ 17  37  36]\n",
      "  [ 16  38  36]\n",
      "  [ 16  38  36]]\n",
      "\n",
      " [[ 59 101  89]\n",
      "  [ 55  97  85]\n",
      "  [ 49  93  80]\n",
      "  ...\n",
      "  [ 17  37  36]\n",
      "  [ 16  38  36]\n",
      "  [ 16  38  36]]\n",
      "\n",
      " [[ 58 101  91]\n",
      "  [ 54  97  87]\n",
      "  [ 47  93  82]\n",
      "  ...\n",
      "  [ 16  36  35]\n",
      "  [ 15  37  35]\n",
      "  [ 14  36  34]]]\n"
     ]
    }
   ],
   "source": [
    "print(len(X_p))\n",
    "print(X_p[0])"
   ]
  },
  {
   "cell_type": "code",
   "execution_count": null,
   "metadata": {},
   "outputs": [],
   "source": []
  }
 ],
 "metadata": {
  "kernelspec": {
   "display_name": "Python 3",
   "language": "python",
   "name": "python3"
  },
  "language_info": {
   "codemirror_mode": {
    "name": "ipython",
    "version": 3
   },
   "file_extension": ".py",
   "mimetype": "text/x-python",
   "name": "python",
   "nbconvert_exporter": "python",
   "pygments_lexer": "ipython3",
   "version": "3.6.5"
  }
 },
 "nbformat": 4,
 "nbformat_minor": 2
}
